{
 "cells": [
  {
   "cell_type": "code",
   "execution_count": 6,
   "id": "90c9cb63-998f-40f9-a5ef-7e5a904a71a4",
   "metadata": {
    "execution": {
     "iopub.execute_input": "2024-10-21T05:20:34.380582Z",
     "iopub.status.busy": "2024-10-21T05:20:34.379583Z",
     "iopub.status.idle": "2024-10-21T05:20:34.390099Z",
     "shell.execute_reply": "2024-10-21T05:20:34.390099Z",
     "shell.execute_reply.started": "2024-10-21T05:20:34.380582Z"
    }
   },
   "outputs": [],
   "source": [
    "import numpy as np\n",
    "import tensorflow as tf\n",
    "import tensorflow.keras as tfk\n",
    "from tf_compactprogbar import CompactProgressBar\n",
    "\n",
    "np.random.seed(42)"
   ]
  },
  {
   "cell_type": "markdown",
   "id": "dfaea5b2",
   "metadata": {},
   "source": [
    "### Data"
   ]
  },
  {
   "cell_type": "code",
   "execution_count": 7,
   "id": "0acdf041-41a7-482d-b992-72a24320a697",
   "metadata": {
    "execution": {
     "iopub.execute_input": "2024-10-21T05:20:36.327996Z",
     "iopub.status.busy": "2024-10-21T05:20:36.327996Z",
     "iopub.status.idle": "2024-10-21T05:20:36.336994Z",
     "shell.execute_reply": "2024-10-21T05:20:36.335996Z",
     "shell.execute_reply.started": "2024-10-21T05:20:36.327996Z"
    }
   },
   "outputs": [],
   "source": [
    "def GenerateData(N=1000, numFeatures=3):\n",
    "    X = np.random.normal(size=(N,numFeatures))\n",
    "    eps = np.random.normal(size=N, scale=0.1)\n",
    "    Y = np.sum(np.log(np.abs(X)+1), axis=-1) + eps\n",
    "    return X, Y\n",
    "\n",
    "# Data\n",
    "X_train, Y_train = GenerateData(1000)\n",
    "X_test, Y_test = GenerateData(200)"
   ]
  },
  {
   "cell_type": "markdown",
   "id": "f74fa646",
   "metadata": {},
   "source": [
    "### Model"
   ]
  },
  {
   "cell_type": "code",
   "execution_count": 8,
   "id": "73af07bb",
   "metadata": {
    "execution": {
     "iopub.execute_input": "2024-10-21T05:20:37.576588Z",
     "iopub.status.busy": "2024-10-21T05:20:37.576588Z",
     "iopub.status.idle": "2024-10-21T05:20:37.586615Z",
     "shell.execute_reply": "2024-10-21T05:20:37.586615Z",
     "shell.execute_reply.started": "2024-10-21T05:20:37.576588Z"
    }
   },
   "outputs": [],
   "source": [
    "def my_metric(y_true, y_hat):\n",
    "    return tf.math.abs(y_true-y_hat)\n",
    "\n",
    "def compile_dnn(numFeatures, architecture=[32,32]):\n",
    "\n",
    "    inputLayer = tfk.layers.Input(shape=(numFeatures,))\n",
    "    x = inputLayer\n",
    "    for nodes in architecture:\n",
    "        x = tfk.layers.Dense(nodes, activation='relu')(x)\n",
    "    x = tfk.layers.Dense(1)(x)\n",
    "\n",
    "    model = tfk.Model(inputs=inputLayer, outputs=x)\n",
    "    model.compile(optimizer=tfk.optimizers.Adam(), \n",
    "                  loss='mse', metrics=my_metric)\n",
    "    return model"
   ]
  },
  {
   "cell_type": "code",
   "execution_count": 9,
   "id": "13b572ca-d418-44c8-982b-e8ce1677588f",
   "metadata": {
    "execution": {
     "iopub.execute_input": "2024-10-21T05:20:38.276014Z",
     "iopub.status.busy": "2024-10-21T05:20:38.275014Z",
     "iopub.status.idle": "2024-10-21T05:20:42.486530Z",
     "shell.execute_reply": "2024-10-21T05:20:42.486530Z",
     "shell.execute_reply.started": "2024-10-21T05:20:38.276014Z"
    }
   },
   "outputs": [],
   "source": [
    "ARCHITECTURE = [8, 8]\n",
    "\n",
    "# Compile model\n",
    "numFeatures = X_train.shape[-1]\n",
    "model = compile_dnn(numFeatures, architecture=ARCHITECTURE)"
   ]
  },
  {
   "cell_type": "markdown",
   "id": "f3b1ec84",
   "metadata": {},
   "source": [
    "### Training"
   ]
  },
  {
   "cell_type": "code",
   "execution_count": null,
   "id": "787ed6d0-3a84-4258-8118-3b1dfeb1366a",
   "metadata": {
    "execution": {
     "iopub.execute_input": "2024-10-21T05:29:13.923840Z",
     "iopub.status.busy": "2024-10-21T05:29:13.923314Z"
    }
   },
   "outputs": [
    {
     "data": {
      "application/vnd.jupyter.widget-view+json": {
       "model_id": "85cc73a0829a49fd93d7ccde5d2c3606",
       "version_major": 2,
       "version_minor": 0
      },
      "text/plain": [
       "  0%|          | 0/200 [00:00<?, ?it/s]"
      ]
     },
     "metadata": {},
     "output_type": "display_data"
    }
   ],
   "source": [
    "# Train\n",
    "history = model.fit(X_train, Y_train,\n",
    "                    epochs=200,\n",
    "                    batch_size=100,\n",
    "                    verbose=0,\n",
    "                    validation_data = (X_test, Y_test),\n",
    "                    callbacks=[CompactProgressBar()])"
   ]
  }
 ],
 "metadata": {
  "kernelspec": {
   "display_name": "Python [conda env:.conda-Hambot]",
   "language": "python",
   "name": "conda-env-.conda-Hambot-py"
  },
  "language_info": {
   "codemirror_mode": {
    "name": "ipython",
    "version": 3
   },
   "file_extension": ".py",
   "mimetype": "text/x-python",
   "name": "python",
   "nbconvert_exporter": "python",
   "pygments_lexer": "ipython3",
   "version": "3.10.14"
  }
 },
 "nbformat": 4,
 "nbformat_minor": 5
}
